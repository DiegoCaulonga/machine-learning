{
 "cells": [
  {
   "cell_type": "markdown",
   "metadata": {},
   "source": [
    "# Supervised learning mutliclass & metrics\n",
    "\n",
    "<img src=\"https://miro.medium.com/max/700/1*x7P7gqjo8k2_bj2rTQWAfg.jpeg\" width=\"400\" />\n",
    "<img src=\"https://cdn-images-1.medium.com/max/1000/1*erhS3Y1ZtN3bcJAYgaLC_g.gif\" width=\"300\" />\n",
    "<img src=\"https://img.devrant.com/devrant/rant/r_1587555_kpz6c.jpg\" width=\"300\"/>"
   ]
  },
  {
   "cell_type": "code",
   "execution_count": 1,
   "metadata": {},
   "outputs": [
    {
     "name": "stdout",
     "output_type": "stream",
     "text": [
      "(712, 5) (179, 5) (712,) (179,)\n"
     ]
    }
   ],
   "source": [
    "import pandas as pd\n",
    "from sklearn.model_selection import train_test_split\n",
    "\n",
    "# Titanic dataset\n",
    "df = pd.read_csv(\"./data/titanic_feats.csv\")\n",
    "df.head()\n",
    "X = df.drop(columns=[\"y\"])\n",
    "y = df['y']\n",
    "\n",
    "X_train, X_test, y_train, y_test = train_test_split(X, y, test_size=0.2)\n",
    "print(X_train.shape, X_test.shape, y_train.shape, y_test.shape)"
   ]
  },
  {
   "cell_type": "code",
   "execution_count": 2,
   "metadata": {},
   "outputs": [
    {
     "name": "stdout",
     "output_type": "stream",
     "text": [
      "Training logis...\n",
      "Training svm-linear...\n",
      "Training svm-rbf...\n",
      "Training randomforest...\n",
      "Train complete\n"
     ]
    }
   ],
   "source": [
    "from sklearn.linear_model import LogisticRegression\n",
    "from sklearn.svm import LinearSVC\n",
    "from sklearn.ensemble import RandomForestClassifier\n",
    "from sklearn.svm import SVC\n",
    "from sklearn.calibration import CalibratedClassifierCV\n",
    "\n",
    "models = {\n",
    "    \"logis\": LogisticRegression(C=10,solver=\"lbfgs\"),\n",
    "    \"svm-linear\": CalibratedClassifierCV(LinearSVC(),cv=3),\n",
    "    \"svm-rbf\": CalibratedClassifierCV(SVC(kernel=\"sigmoid\",gamma=\"auto\"),cv=3),\n",
    "    \"randomforest\": RandomForestClassifier(n_estimators=100),\n",
    "}\n",
    "\n",
    "# Train all the models in the models dict\n",
    "for name,m  in models.items():\n",
    "    print(f\"Training {name}...\")\n",
    "    m.fit(X_train, y_train)\n",
    "print(\"Train complete\")\n",
    "\n"
   ]
  },
  {
   "cell_type": "markdown",
   "metadata": {},
   "source": [
    "## Metrics\n",
    "\n",
    "\n",
    "<img src=\"https://cdn-images-1.medium.com/fit/t/1600/480/1*Ub0nZTXYT8MxLzrz0P7jPA.png\" width=\"600\"/>\n",
    "\n",
    "* **Accuracy:** `Accuracy = N/NGT`\n",
    "  - `N` number of correctly classified samples\n",
    "  - `NGT` Total number of samples to be classified\n",
    "  - https://scikit-learn.org/stable/modules/generated/sklearn.metrics.accuracy_score.html#sklearn.metrics.accuracy_score\n",
    "* **Precision:** `tp / (tp + fp)`\n",
    "  - The precision is intuitively the ability of the classifier not to label as positive a sample that is negative.\n",
    "  - https://scikit-learn.org/stable/modules/generated/sklearn.metrics.precision_score.html#sklearn.metrics.precision_score\n",
    "* **Recall** `tp / (tp + fn)`\n",
    "  - The recall is intuitively the ability of the classifier to find all the positive samples.\n",
    "  - https://scikit-learn.org/stable/modules/generated/sklearn.metrics.recall_score.html#sklearn.metrics.recall_score\n",
    "  \n",
    "* **F1Score**: `F1 = 2 * (precision * recall) / (precision + recall)`\n",
    "\n",
    "  - The F1 score can be interpreted as a weighted average of the precision and recall, where an F1 score reaches its best value at 1 and worst score at 0\n",
    "  - https://scikit-learn.org/stable/modules/generated/sklearn.metrics.f1_score.html#sklearn.metrics.f1_score\n",
    "\n",
    "```python\n",
    "from sklearn.metrics import accuracy_score, precision_score, recall_score, f1_score\n",
    "```\n",
    "\n",
    "<img src=\"https://upl7s2nmwf2w5a6vghztmvqp-wpengine.netdna-ssl.com/wp-content/uploads/2018/08/Figure-2-ivu.jpg\" width=\"400\"/>\n",
    "\n",
    "<img src=\"https://miro.medium.com/max/4420/1*btcfBuM5Eqqc6rJ3iw3sNQ.png\" width=\"400\"/>\n",
    "\n",
    "\n",
    "\n",
    "### Difference between model evaluation metrics\n",
    "* **Accuracy vs Precision** -> https://en.wikipedia.org/wiki/Accuracy_and_precision\n",
    "* **Precision & Recall**\n",
    "  - https://towardsdatascience.com/beyond-accuracy-precision-and-recall-3da06bea9f6c\n",
    "  - https://scikit-learn.org/stable/auto_examples/model_selection/plot_precision_recall.html\n",
    "  \n",
    "### Refs\n",
    "- https://scikit-learn.org/stable/modules/model_evaluation.html\n"
   ]
  },
  {
   "cell_type": "code",
   "execution_count": 77,
   "metadata": {},
   "outputs": [
    {
     "name": "stdout",
     "output_type": "stream",
     "text": [
      "Evaluating model logis\n",
      "\t Accuracy: 0.816\n",
      "\t Precision: 0.73\n",
      "\t Recall: 0.742\n",
      "\t F1Score: 0.736\n",
      "Evaluating model svm-linear\n",
      "\t Accuracy: 0.81\n",
      "\t Precision: 0.726\n",
      "\t Recall: 0.726\n",
      "\t F1Score: 0.726\n",
      "Evaluating model svm-rbf\n",
      "\t Accuracy: 0.799\n",
      "\t Precision: 0.724\n",
      "\t Recall: 0.677\n",
      "\t F1Score: 0.7\n",
      "Evaluating model randomforest\n",
      "\t Accuracy: 0.804\n",
      "\t Precision: 0.701\n",
      "\t Recall: 0.758\n",
      "\t F1Score: 0.729\n",
      "Train complete\n"
     ]
    }
   ],
   "source": [
    "from sklearn.metrics import accuracy_score, precision_score, recall_score, f1_score\n",
    "\n",
    "printMetric = lambda label,value:print(f\"\\t {label}: {round(value,3)}\")\n",
    "\n",
    "for name, model in models.items():\n",
    "    y_pred = model.predict(X_test)\n",
    "    print(f\"Evaluating model {name}\")\n",
    "    printMetric(\"Accuracy\",accuracy_score(y_test, y_pred))\n",
    "    printMetric(\"Precision\",precision_score(y_test, y_pred))\n",
    "    printMetric(\"Recall\",recall_score(y_test, y_pred))\n",
    "    printMetric(\"F1Score\",f1_score(y_test, y_pred))\n",
    "\n",
    "print(\"Train complete\")"
   ]
  },
  {
   "cell_type": "markdown",
   "metadata": {},
   "source": [
    "\n",
    "## ROC Curve and AUC\n",
    "Receiver Operator Characteristic Curve from `sklearn.metrics`\n",
    "- http://arogozhnikov.github.io/2015/10/05/roc-curve.html\n",
    "- http://www.navan.name/roc/\n",
    "\n",
    "```python\n",
    "from sklearn.metrics import roc_auc_score\n",
    "y_true = np.array([0, 0, 1, 1])\n",
    "y_scores = np.array([0.1, 0.4, 0.35, 0.8])\n",
    "\n",
    "# Extract AUC score\n",
    "roc_auc_score(y_true, y_scores)\n",
    "\n",
    "# Extract ROC curve\n",
    "fpr, tpr, thresholds = metrics.roc_curve(y, y_scores, pos_label=1)\n",
    "```\n"
   ]
  },
  {
   "cell_type": "code",
   "execution_count": 3,
   "metadata": {},
   "outputs": [
    {
     "data": {
      "text/plain": [
       "<matplotlib.legend.Legend at 0x120c83790>"
      ]
     },
     "execution_count": 3,
     "metadata": {},
     "output_type": "execute_result"
    },
    {
     "data": {
      "image/png": "[encoded data removed]",
      "text/plain": [
       "<Figure size 720x360 with 1 Axes>"
      ]
     },
     "metadata": {
      "needs_background": "light"
     },
     "output_type": "display_data"
    }
   ],
   "source": [
    "%matplotlib inline\n",
    "from sklearn.metrics import roc_auc_score, roc_curve\n",
    "import matplotlib.pyplot as plt\n",
    "\n",
    "analyzeModels = {\n",
    "    name:model for name, model in models.items() if name in [\"logis\",\"randomforest\"]\n",
    "}\n",
    "\n",
    "plt.figure(figsize=(10,5))\n",
    "aucs = []\n",
    "for name, model in analyzeModels.items():\n",
    "    y_scores = model.predict_proba(X_test)\n",
    "    \n",
    "    alive_scores = y_scores[:,1]\n",
    "    \n",
    "    # Extract AUC score\n",
    "    auc = roc_auc_score(y_test, alive_scores)\n",
    "    aucs.append(f\"AUC({name})={round(auc,2)}\")\n",
    "    # Extract ROC curve\n",
    "    fpr, tpr, thresholds = roc_curve(y_test, alive_scores, pos_label=1)\n",
    "    plt.plot(fpr,tpr)\n",
    "\n",
    "plt.legend(aucs)\n",
    "    \n"
   ]
  },
  {
   "cell_type": "code",
   "execution_count": null,
   "metadata": {},
   "outputs": [],
   "source": []
  },
  {
   "cell_type": "code",
   "execution_count": null,
   "metadata": {},
   "outputs": [],
   "source": []
  },
  {
   "cell_type": "markdown",
   "metadata": {},
   "source": [
    "## Cross validation\n",
    "\n",
    "`from sklearn.model_selection import cross_val_score`\n",
    "\n",
    "<img src=\"https://scikit-learn.org/stable/_images/grid_search_cross_validation.png\" width=\"500\"/>"
   ]
  },
  {
   "cell_type": "code",
   "execution_count": 91,
   "metadata": {},
   "outputs": [
    {
     "name": "stdout",
     "output_type": "stream",
     "text": [
      "(logis) acccuracy=0.7935035750766088\n",
      "(svm-linear) acccuracy=0.7912813528543865\n",
      "(svm-rbf) acccuracy=0.7900942004312791\n",
      "(randomforest) acccuracy=0.7902701168993305\n"
     ]
    }
   ],
   "source": [
    "import numpy as np\n",
    "from sklearn.model_selection import cross_val_score\n",
    "\n",
    "for name, model in models.items():\n",
    "    scores = cross_val_score(model, X, y, cv=10)\n",
    "    print(f\"({name}) acccuracy={np.mean(scores)}\")\n"
   ]
  },
  {
   "cell_type": "markdown",
   "metadata": {},
   "source": [
    "## Deep dive on ROC curve\n",
    "\n",
    "\n",
    "- **ROC**: https://scikit-learn.org/stable/auto_examples/model_selection/plot_roc.html#sphx-glr-auto-examples-model-selection-plot-roc-py\n",
    "\n",
    "- **ROC with Cross Validation**: https://scikit-learn.org/stable/auto_examples/model_selection/plot_roc_crossval.html#sphx-glr-auto-examples-model-selection-plot-roc-crossval-py\n"
   ]
  },
  {
   "cell_type": "code",
   "execution_count": null,
   "metadata": {},
   "outputs": [],
   "source": []
  },
  {
   "cell_type": "markdown",
   "metadata": {},
   "source": [
    "## Extract a basic report\n",
    "\n",
    "- https://scikit-learn.org/stable/modules/generated/sklearn.metrics.classification_report.html\n",
    "\n",
    "```python\n",
    "from sklearn.metrics import classification_report, confusion_matrix, accuracy_score\n",
    "# Precision, Recall, F1-Score & Support\n",
    "print(classification_report(y_test,y_pred))\n",
    "# Accuracy Score -> in mutliclass is computed with jaccard_score\n",
    "print(accuracy_score(y_test, y_pred))\n",
    "```"
   ]
  },
  {
   "cell_type": "code",
   "execution_count": 95,
   "metadata": {},
   "outputs": [
    {
     "name": "stdout",
     "output_type": "stream",
     "text": [
      "MODEL -> logis\n",
      "              precision    recall  f1-score   support\n",
      "\n",
      "           0       0.86      0.85      0.86       117\n",
      "           1       0.73      0.74      0.74        62\n",
      "\n",
      "   micro avg       0.82      0.82      0.82       179\n",
      "   macro avg       0.80      0.80      0.80       179\n",
      "weighted avg       0.82      0.82      0.82       179\n",
      "\n",
      "MODEL -> svm-linear\n",
      "              precision    recall  f1-score   support\n",
      "\n",
      "           0       0.85      0.85      0.85       117\n",
      "           1       0.73      0.73      0.73        62\n",
      "\n",
      "   micro avg       0.81      0.81      0.81       179\n",
      "   macro avg       0.79      0.79      0.79       179\n",
      "weighted avg       0.81      0.81      0.81       179\n",
      "\n",
      "MODEL -> svm-rbf\n",
      "              precision    recall  f1-score   support\n",
      "\n",
      "           0       0.83      0.86      0.85       117\n",
      "           1       0.72      0.68      0.70        62\n",
      "\n",
      "   micro avg       0.80      0.80      0.80       179\n",
      "   macro avg       0.78      0.77      0.77       179\n",
      "weighted avg       0.80      0.80      0.80       179\n",
      "\n",
      "MODEL -> randomforest\n",
      "              precision    recall  f1-score   support\n",
      "\n",
      "           0       0.88      0.84      0.86       117\n",
      "           1       0.72      0.77      0.74        62\n",
      "\n",
      "   micro avg       0.82      0.82      0.82       179\n",
      "   macro avg       0.80      0.81      0.80       179\n",
      "weighted avg       0.82      0.82      0.82       179\n",
      "\n"
     ]
    }
   ],
   "source": [
    "from sklearn.metrics import classification_report, confusion_matrix, accuracy_score\n",
    "\n",
    "for name, model in models.items():\n",
    "    y_pred = model.predict(X_test)\n",
    "    print(f\"MODEL -> {name}\")\n",
    "    print(classification_report(y_test,y_pred))\n",
    "\n",
    "    "
   ]
  },
  {
   "cell_type": "markdown",
   "metadata": {},
   "source": [
    "## Multiclass models training\n",
    "\n",
    "While some models can handle mutliclass data inherently, some others require a strategy to **convert** the mutliclass problem into **multiple binary classification problems**.\n",
    "- Multiclass as **One-Vs-One**\n",
    "- Multiclass as **One-Vs-The-Rest**\n",
    "\n",
    "- https://scikit-learn.org/stable/modules/multiclass.html"
   ]
  },
  {
   "cell_type": "code",
   "execution_count": 6,
   "metadata": {},
   "outputs": [
    {
     "name": "stdout",
     "output_type": "stream",
     "text": [
      "(1797, 64) (1797,)\n",
      "[0 1 2 3 4 5 6 7 8 9 0 1 2 3 4 5 6 7 8 9]\n"
     ]
    },
    {
     "data": {
      "text/plain": [
       "<matplotlib.image.AxesImage at 0x123528970>"
      ]
     },
     "execution_count": 6,
     "metadata": {},
     "output_type": "execute_result"
    },
    {
     "data": {
      "image/png": "[encoded data removed]",
      "text/plain": [
       "<Figure size 432x288 with 1 Axes>"
      ]
     },
     "metadata": {
      "needs_background": "light"
     },
     "output_type": "display_data"
    }
   ],
   "source": [
    "from sklearn import datasets, svm, metrics\n",
    "from sklearn.linear_model import LogisticRegression\n",
    "import pandas as pd\n",
    "from sklearn.metrics import classification_report\n",
    "from sklearn.model_selection import train_test_split\n",
    "import matplotlib.pyplot as plt\n",
    "\n",
    "# Mnist dataset\n",
    "digits = datasets.load_digits()\n",
    "\n",
    "X = digits[\"data\"]\n",
    "y = digits[\"target\"]\n",
    "print(X.shape, y.shape)\n",
    "X_train, X_test, y_train, y_test = train_test_split(X, y, test_size=0.2)\n",
    "print(y[:20])\n",
    "plt.imshow(X[0].reshape((8,8)))"
   ]
  },
  {
   "cell_type": "code",
   "execution_count": 13,
   "metadata": {},
   "outputs": [
    {
     "name": "stdout",
     "output_type": "stream",
     "text": [
      "[2 0 2 0 1]\n"
     ]
    },
    {
     "data": {
      "text/plain": [
       "array(['Pera', 'Pera', 'Pera', 'Pera', 'Pera', 'Pera', 'Pera', 'Pera',\n",
       "       'Pera'], dtype='<U7')"
      ]
     },
     "execution_count": 13,
     "metadata": {},
     "output_type": "execute_result"
    }
   ],
   "source": [
    "#X = [ [0,0,0,0] , [1,2,3,5]...]\n",
    "from sklearn import preprocessing\n",
    "\n",
    "y = [\"Pera\",\"Manzana\",\"Pera\",\"Manzana\",\"Naranja\"]\n",
    "\n",
    "le = preprocessing.LabelEncoder()\n",
    "y_numeric = le.fit_transform(y)\n",
    "print(y_numeric)\n",
    "\n",
    "le.inverse_transform([2,2,2,2,2,2,2,2,2])"
   ]
  },
  {
   "cell_type": "code",
   "execution_count": 16,
   "metadata": {},
   "outputs": [
    {
     "name": "stdout",
     "output_type": "stream",
     "text": [
      "[[1 1 0]\n",
      " [0 1 1]\n",
      " [1 0 1]]\n"
     ]
    }
   ],
   "source": [
    "from sklearn.preprocessing import MultiLabelBinarizer\n",
    "#X = [ [...], [...], [...]]\n",
    "y = [\n",
    "    [\"Gafas\",\"Bigote\"],\n",
    "    [\"Gafas\",\"Pelo Moreno\"],\n",
    "    [\"Pelo Moreno\",\"Bigote\"]\n",
    "]\n",
    "\n",
    "le = MultiLabelBinarizer()\n",
    "y_numeric = le.fit_transform(y)\n",
    "print(y_numeric)"
   ]
  },
  {
   "cell_type": "code",
   "execution_count": 19,
   "metadata": {},
   "outputs": [
    {
     "name": "stdout",
     "output_type": "stream",
     "text": [
      "              precision    recall  f1-score   support\n",
      "\n",
      "           0       1.00      1.00      1.00        38\n",
      "           1       0.93      1.00      0.96        37\n",
      "           2       1.00      1.00      1.00        37\n",
      "           3       0.97      1.00      0.99        37\n",
      "           4       1.00      1.00      1.00        48\n",
      "           5       1.00      1.00      1.00        27\n",
      "           6       1.00      1.00      1.00        34\n",
      "           7       0.97      1.00      0.98        30\n",
      "           8       0.97      0.93      0.95        41\n",
      "           9       1.00      0.90      0.95        31\n",
      "\n",
      "    accuracy                           0.98       360\n",
      "   macro avg       0.98      0.98      0.98       360\n",
      "weighted avg       0.98      0.98      0.98       360\n",
      "\n"
     ]
    }
   ],
   "source": [
    "model = svm.SVC(gamma=0.001)\n",
    "\n",
    "model.fit(X_train,y_train)\n",
    "\n",
    "y_pred = model.predict(X_test)\n",
    "\n",
    "print(classification_report(y_test,y_pred))"
   ]
  },
  {
   "cell_type": "markdown",
   "metadata": {},
   "source": [
    "## Multiclass metrics \n",
    "\n",
    "* **Balanced accuracy score:** The balanced accuracy in binary and multiclass classification problems to deal with imbalanced datasets. It is defined as the average of recall obtained on each class.\n",
    "    - `sklearn.metrics.balanced_accuracy_score`\n",
    "* **Weighted ROC Curve for multiclass & multilabel:** `sklearn.metrics.roc_auc_score`\n",
    "    - https://scikit-learn.org/stable/modules/generated/sklearn.metrics.roc_auc_score.html#sklearn.metrics.roc_auc_score\n",
    "\n",
    "* **Confussion matrix:** Each row of the matrix represents the instances in a predicted class while each column represents the instances in an actual class (or vice versa).\n",
    "\n",
    "https://scikit-learn.org/stable/modules/generated/sklearn.metrics.confusion_matrix.html\n",
    "\n",
    "```python\n",
    "from sklearn.metrics import confusion_matrix\n",
    "confusion_matrix(y_test,y_pred)\n",
    "```\n",
    "\n",
    "**Note:** Confussion Matrix can be ploted with seaborn heatmap\n",
    "- https://seaborn.pydata.org/generated/seaborn.heatmap.html"
   ]
  },
  {
   "cell_type": "code",
   "execution_count": 23,
   "metadata": {},
   "outputs": [
    {
     "name": "stdout",
     "output_type": "stream",
     "text": [
      "[4 8 8 4 5 9 4 3 7 5 1 9 6 4 2 8 0 3 5 0 2 3 9 2 5 0 6 0 6 9 2 9 1 5 6 7 8\n",
      " 4 6 0 1 6 2 5 0 2 9 5 2 0 0 8 3 0 0 3 1 2 6 6 2 9 7 8 7 3 4 4 0 9 3 3 4 8\n",
      " 8 6 4 6 4 2 3 0 7 4 8 7 6 1 8 3 4 8 0 8 7 6 4 3 7 0 7 6 8 2 2 4 7 0 5 8 6\n",
      " 4 4 0 2 9 7 6 5 7 6 3 5 2 2 0 4 2 1 2 1 6 5 4 5 2 7 2 1 4 4 8 9 0 1 4 5 8\n",
      " 7 9 9 2 8 9 5 0 7 1 4 5 2 1 1 0 4 2 0 3 1 1 2 4 1 1 8 7 9 7 2 3 5 3 2 2 1\n",
      " 0 4 9 1 7 9 2 1 8 1 3 1 6 3 2 1 5 9 6 3 0 9 8 6 7 1 8 6 9 1 6 4 4 0 4 4 9\n",
      " 3 5 7 2 3 4 0 0 9 0 3 2 6 1 6 5 2 9 4 5 0 8 4 8 9 0 4 3 7 8 1 0 4 4 4 0 6\n",
      " 3 5 3 9 3 8 8 6 4 8 8 3 3 8 9 3 5 8 5 8 4 2 8 1 0 6 0 7 6 4 1 1 3 1 2 8 6\n",
      " 3 0 3 6 3 0 6 0 5 9 2 5 4 8 8 7 1 1 7 8 3 1 3 6 7 4 0 9 3 1 6 2 6 4 9 0 8\n",
      " 8 7 8 7 8 3 5 9 1 4 4 7 4 7 4 9 3 2 5 1 2 1 9 7 4 8 4]\n",
      "[4 8 8 4 5 9 4 3 7 5 1 9 6 4 2 8 0 3 5 0 2 3 9 2 5 0 6 0 6 9 2 9 1 5 6 7 8\n",
      " 4 6 0 1 6 2 5 0 2 9 5 2 0 0 8 3 0 0 3 1 2 6 6 2 9 7 8 7 3 4 4 0 9 3 3 4 8\n",
      " 8 6 4 6 4 2 3 0 7 4 8 7 6 1 8 3 4 8 0 8 7 6 4 3 7 0 7 6 8 2 2 4 7 0 5 8 6\n",
      " 4 4 0 2 3 7 6 5 7 6 3 5 2 2 0 4 2 1 2 1 6 5 4 5 2 7 2 1 4 4 8 9 0 1 4 5 8\n",
      " 7 9 9 2 8 8 5 0 7 1 4 5 2 1 1 0 4 2 0 3 1 1 2 4 1 1 8 7 9 7 2 3 5 3 2 2 1\n",
      " 0 4 7 1 7 9 2 1 8 1 3 1 6 3 2 1 5 9 6 3 0 9 8 6 7 1 8 6 9 1 6 4 4 0 4 4 9\n",
      " 3 5 7 2 3 4 0 0 9 0 3 2 6 1 6 5 2 9 4 5 0 8 4 1 9 0 4 3 7 8 1 0 4 4 4 0 6\n",
      " 3 5 3 9 3 1 8 6 4 1 8 3 3 8 9 3 5 8 5 8 4 2 8 1 0 6 0 7 6 4 1 1 3 1 2 8 6\n",
      " 3 0 3 6 3 0 6 0 5 9 2 5 4 8 8 7 1 1 7 8 3 1 3 6 7 4 0 9 3 1 6 2 6 4 9 0 8\n",
      " 8 7 8 7 8 3 5 9 1 4 4 7 4 7 4 9 3 2 5 1 2 1 9 7 4 8 4]\n",
      "[[38  0  0  0  0  0  0  0  0  0]\n",
      " [ 0 37  0  0  0  0  0  0  0  0]\n",
      " [ 0  0 37  0  0  0  0  0  0  0]\n",
      " [ 0  0  0 37  0  0  0  0  0  0]\n",
      " [ 0  0  0  0 48  0  0  0  0  0]\n",
      " [ 0  0  0  0  0 27  0  0  0  0]\n",
      " [ 0  0  0  0  0  0 34  0  0  0]\n",
      " [ 0  0  0  0  0  0  0 30  0  0]\n",
      " [ 0  3  0  0  0  0  0  0 38  0]\n",
      " [ 0  0  0  1  0  0  0  1  1 28]]\n"
     ]
    },
    {
     "data": {
      "text/plain": [
       "<matplotlib.axes._subplots.AxesSubplot at 0x123cbf280>"
      ]
     },
     "execution_count": 23,
     "metadata": {},
     "output_type": "execute_result"
    },
    {
     "data": {
      "image/png": "[encoded data removed]",
      "text/plain": [
       "<Figure size 432x288 with 2 Axes>"
      ]
     },
     "metadata": {
      "needs_background": "light"
     },
     "output_type": "display_data"
    }
   ],
   "source": [
    "import seaborn as sns\n",
    "from sklearn.metrics import confusion_matrix\n",
    "\n",
    "print(y_test)\n",
    "print(y_pred)\n",
    "\n",
    "cm = confusion_matrix(y_test,y_pred)\n",
    "print(cm)\n",
    "\n",
    "sns.heatmap(cm,annot=True)"
   ]
  },
  {
   "cell_type": "code",
   "execution_count": 25,
   "metadata": {},
   "outputs": [
    {
     "name": "stdout",
     "output_type": "stream",
     "text": [
      "[[38  0  0  0  0  0  0  0  0  0]\n",
      " [ 0 37  0  0  0  0  0  0  0  0]\n",
      " [ 0  0 37  0  0  0  0  0  0  0]\n",
      " [ 0  0  0 37  0  0  0  0  0  0]\n",
      " [ 0  0  0  0 48  0  0  0  0  0]\n",
      " [ 0  0  0  0  0 27  0  0  0  0]\n",
      " [ 0  0  0  0  0  0 34  0  0  0]\n",
      " [ 0  0  0  0  0  0  0 30  0  0]\n",
      " [ 0  3  0  0  0  0  0  0 38  0]\n",
      " [ 0  0  0  1  0  0  0  1  1 28]]\n"
     ]
    },
    {
     "data": {
      "text/plain": [
       "<matplotlib.axes._subplots.AxesSubplot at 0x123507e80>"
      ]
     },
     "execution_count": 25,
     "metadata": {},
     "output_type": "execute_result"
    },
    {
     "data": {
      "image/png": "[encoded data removed]",
      "text/plain": [
       "<Figure size 432x288 with 2 Axes>"
      ]
     },
     "metadata": {
      "needs_background": "light"
     },
     "output_type": "display_data"
    }
   ],
   "source": [
    "import seaborn as sns\n",
    "from sklearn.metrics import confusion_matrix\n",
    "\n",
    "# Absolute confusion matrix\n",
    "cm = confusion_matrix(y_test,y_pred)\n",
    "print(cm)\n",
    "\n",
    "sns.heatmap(cm,annot=True)"
   ]
  },
  {
   "cell_type": "code",
   "execution_count": 26,
   "metadata": {},
   "outputs": [
    {
     "name": "stdout",
     "output_type": "stream",
     "text": [
      "0    38\n",
      "1    37\n",
      "2    37\n",
      "3    37\n",
      "4    48\n",
      "5    27\n",
      "6    34\n",
      "7    30\n",
      "8    41\n",
      "9    31\n",
      "dtype: int64\n"
     ]
    },
    {
     "data": {
      "text/plain": [
       "<matplotlib.axes._subplots.AxesSubplot at 0x10d86ab20>"
      ]
     },
     "execution_count": 26,
     "metadata": {},
     "output_type": "execute_result"
    },
    {
     "data": {
      "image/png": "[encoded data removed]",
      "text/plain": [
       "<Figure size 432x288 with 2 Axes>"
      ]
     },
     "metadata": {
      "needs_background": "light"
     },
     "output_type": "display_data"
    }
   ],
   "source": [
    "# Normalized confusion matrix\n",
    "\n",
    "cm = confusion_matrix(y_test,y_pred)\n",
    "totals_per_class = pd.Series(y_test).value_counts().sort_index()\n",
    "print(totals_per_class)\n",
    "cm_percent = cm/totals_per_class[None,:]\n",
    "sns.heatmap(cm_percent,annot=True)"
   ]
  },
  {
   "cell_type": "code",
   "execution_count": 27,
   "metadata": {},
   "outputs": [
    {
     "data": {
      "text/plain": [
       "'Felipe'"
      ]
     },
     "execution_count": 27,
     "metadata": {},
     "output_type": "execute_result"
    }
   ],
   "source": [
    "import random\n",
    "random.choice([\"Felipe\",\"Ovi\"])"
   ]
  },
  {
   "cell_type": "code",
   "execution_count": null,
   "metadata": {},
   "outputs": [],
   "source": []
  },
  {
   "cell_type": "code",
   "execution_count": null,
   "metadata": {},
   "outputs": [],
   "source": []
  }
 ],
 "metadata": {
  "kernelspec": {
   "display_name": "Python 3",
   "language": "python",
   "name": "python3"
  },
  "language_info": {
   "codemirror_mode": {
    "name": "ipython",
    "version": 3
   },
   "file_extension": ".py",
   "mimetype": "text/x-python",
   "name": "python",
   "nbconvert_exporter": "python",
   "pygments_lexer": "ipython3",
   "version": "3.8.4"
  }
 },
 "nbformat": 4,
 "nbformat_minor": 2
}
